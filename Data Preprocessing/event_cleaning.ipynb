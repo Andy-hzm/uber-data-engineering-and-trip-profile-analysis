{
 "cells": [
  {
   "cell_type": "code",
   "execution_count": 4,
   "metadata": {},
   "outputs": [],
   "source": [
    "import pandas as pd\n",
    "\n",
    "file_path = r\"C:\\Users\\Dazhou Wu\\Desktop\\Mine\\master\\Fall 24\\Data Engineering\\Final Project\\dataset\\event2022.csv\"\n",
    "df = pd.read_csv(file_path)\n",
    "output_file = 'final_event2022'"
   ]
  },
  {
   "cell_type": "code",
   "execution_count": null,
   "metadata": {},
   "outputs": [
    {
     "name": "stdout",
     "output_type": "stream",
     "text": [
      "共有 0 行时间解析失败，已设置为 NaN。\n"
     ]
    }
   ],
   "source": [
    "time_column = 'End Date/Time' \n",
    "\n",
    "df[time_column] = pd.to_datetime(df[time_column], format='%m/%d/%Y %I:%M:%S %p', errors='coerce')\n",
    "df[time_column] = df[time_column].dt.strftime('%Y-%m-%d %H:%M:%S')\n",
    "\n",
    "nan_rows = df[time_column].isna().sum()\n",
    "print(f\"{nan_rows} rows are wrong\")"
   ]
  },
  {
   "cell_type": "code",
   "execution_count": 6,
   "metadata": {},
   "outputs": [
    {
     "data": {
      "text/plain": [
       "0          2022-01-02 14:00:00\n",
       "1          2022-01-01 19:00:00\n",
       "2          2022-01-01 20:00:00\n",
       "3          2022-01-01 19:00:00\n",
       "4          2022-07-30 13:00:00\n",
       "                  ...         \n",
       "1048570    2022-05-14 16:00:00\n",
       "1048571    2022-04-29 19:00:00\n",
       "1048572    2022-05-20 14:00:00\n",
       "1048573    2022-05-07 18:30:00\n",
       "1048574    2022-04-30 19:00:00\n",
       "Name: End Date/Time, Length: 1048575, dtype: object"
      ]
     },
     "execution_count": 6,
     "metadata": {},
     "output_type": "execute_result"
    }
   ],
   "source": [
    "df[time_column]"
   ]
  },
  {
   "cell_type": "code",
   "execution_count": null,
   "metadata": {},
   "outputs": [
    {
     "name": "stdout",
     "output_type": "stream",
     "text": [
      "时间格式已修复！文件保存至: C:/Users/Dazhou Wu/Desktop/final_event.csv\n"
     ]
    }
   ],
   "source": [
    "output_file =  \"C:/Users/Dazhou Wu/Desktop/final_event.csv\"\n",
    "\n",
    "df.to_csv(output_file, index=False)\n",
    "\n",
    "print(f\"File saved as {output_file}\")"
   ]
  }
 ],
 "metadata": {
  "kernelspec": {
   "display_name": "Python 3",
   "language": "python",
   "name": "python3"
  },
  "language_info": {
   "codemirror_mode": {
    "name": "ipython",
    "version": 3
   },
   "file_extension": ".py",
   "mimetype": "text/x-python",
   "name": "python",
   "nbconvert_exporter": "python",
   "pygments_lexer": "ipython3",
   "version": "3.11.9"
  }
 },
 "nbformat": 4,
 "nbformat_minor": 2
}
